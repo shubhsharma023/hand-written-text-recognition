{
  "nbformat": 4,
  "nbformat_minor": 0,
  "metadata": {
    "colab": {
      "provenance": []
    },
    "kernelspec": {
      "name": "python3",
      "display_name": "Python 3"
    },
    "language_info": {
      "name": "python"
    }
  },
  "cells": [
    {
      "cell_type": "code",
      "execution_count": 143,
      "metadata": {
        "id": "nseJlzSe-dfJ"
      },
      "outputs": [],
      "source": [
        "import numpy as np\n",
        "import pandas as pd\n",
        "import matplotlib.pyplot as plt\n",
        "import seaborn as sns\n",
        "#%matplotlib inline\n"
      ]
    },
    {
      "cell_type": "code",
      "source": [
        "data_df = pd.read_csv(\"train.csv\")\n",
        "test_df = pd.read_csv(\"test.csv\")\n"
      ],
      "metadata": {
        "id": "dmJlSnjMAtlf"
      },
      "execution_count": 144,
      "outputs": []
    },
    {
      "cell_type": "code",
      "source": [
        "data_df.shape"
      ],
      "metadata": {
        "colab": {
          "base_uri": "https://localhost:8080/"
        },
        "id": "Mh--UQxqD-rl",
        "outputId": "98fce8cb-5df2-43a0-9b05-72d869527732"
      },
      "execution_count": 145,
      "outputs": [
        {
          "output_type": "execute_result",
          "data": {
            "text/plain": [
              "(42000, 785)"
            ]
          },
          "metadata": {},
          "execution_count": 145
        }
      ]
    },
    {
      "cell_type": "markdown",
      "source": [
        "# Data preparation for model building "
      ],
      "metadata": {
        "id": "wfLpfYMbH-mr"
      }
    },
    {
      "cell_type": "code",
      "source": [
        "\n",
        "y=data_df['label']\n",
        "x=data_df.drop('label',axis=1)"
      ],
      "metadata": {
        "id": "iPCSFpZ9ECUm"
      },
      "execution_count": 146,
      "outputs": []
    },
    {
      "cell_type": "code",
      "source": [
        "\n",
        "x_for_test_data=test_df[:]\n"
      ],
      "metadata": {
        "id": "P7T4atf5DoRG"
      },
      "execution_count": 147,
      "outputs": []
    },
    {
      "cell_type": "code",
      "source": [
        "type(x)"
      ],
      "metadata": {
        "colab": {
          "base_uri": "https://localhost:8080/"
        },
        "id": "vonHDFW_EE_s",
        "outputId": "f87e4e4f-9aeb-4447-e2d6-1cd70601d92e"
      },
      "execution_count": 112,
      "outputs": [
        {
          "output_type": "execute_result",
          "data": {
            "text/plain": [
              "pandas.core.frame.DataFrame"
            ]
          },
          "metadata": {},
          "execution_count": 112
        }
      ]
    },
    {
      "cell_type": "code",
      "source": [
        "plt.figure(figsize=(7,7))\n",
        "some_digit=1349\n",
        "some_digit_image = x.iloc[some_digit].to_numpy()\n",
        "plt.imshow(np.reshape(some_digit_image, (28,28)))\n",
        "print(y[some_digit])"
      ],
      "metadata": {
        "colab": {
          "base_uri": "https://localhost:8080/",
          "height": 445
        },
        "id": "B8YvJMc_EK7K",
        "outputId": "c526d98b-99f8-4cb7-81c3-ea4bca015320"
      },
      "execution_count": 148,
      "outputs": [
        {
          "output_type": "stream",
          "name": "stdout",
          "text": [
            "1\n"
          ]
        },
        {
          "output_type": "display_data",
          "data": {
            "text/plain": [
              "<Figure size 504x504 with 1 Axes>"
            ],
            "image/png": "[encoded data removed]"
          },
          "metadata": {
            "needs_background": "light"
          }
        }
      ]
    },
    {
      "cell_type": "code",
      "source": [
        "sns.countplot( x='label', data=data_df) "
      ],
      "metadata": {
        "colab": {
          "base_uri": "https://localhost:8080/",
          "height": 296
        },
        "id": "ClVoWd-qDWAC",
        "outputId": "667017d7-749a-4123-f904-e2f1a92c386b"
      },
      "execution_count": 149,
      "outputs": [
        {
          "output_type": "execute_result",
          "data": {
            "text/plain": [
              "<matplotlib.axes._subplots.AxesSubplot at 0x7f5c19b28e20>"
            ]
          },
          "metadata": {},
          "execution_count": 149
        },
        {
          "output_type": "display_data",
          "data": {
            "text/plain": [
              "<Figure size 432x288 with 1 Axes>"
            ],
            "image/png": "[encoded data removed]"
          },
          "metadata": {
            "needs_background": "light"
          }
        }
      ]
    },
    {
      "cell_type": "markdown",
      "source": [
        "# Splitting the dataset into test and train data\n"
      ],
      "metadata": {
        "id": "hiKhp9gjIFCi"
      }
    },
    {
      "cell_type": "code",
      "source": [
        "\n",
        "from sklearn.model_selection import  train_test_split\n",
        "x_train, x_test, y_train, y_test = train_test_split(x, y, test_size = 0.30, random_state = 40)\n",
        "\n"
      ],
      "metadata": {
        "id": "c-W2_QoHAyLq"
      },
      "execution_count": 150,
      "outputs": []
    },
    {
      "cell_type": "markdown",
      "source": [
        "# KNN MODELS"
      ],
      "metadata": {
        "id": "uFuOP67MIOUx"
      }
    },
    {
      "cell_type": "code",
      "source": [
        "\n",
        "\n",
        "from sklearn.preprocessing import  StandardScaler\n",
        "scaler = StandardScaler()\n",
        "scaler.fit(x_train,y_train)\n",
        "x_train = scaler.transform(x_train)\n",
        "x_train.shape"
      ],
      "metadata": {
        "colab": {
          "base_uri": "https://localhost:8080/"
        },
        "id": "1l5chC08ETgf",
        "outputId": "b1907e6d-16d1-462c-e7f6-63b27ca73292"
      },
      "execution_count": 151,
      "outputs": [
        {
          "output_type": "execute_result",
          "data": {
            "text/plain": [
              "(29400, 784)"
            ]
          },
          "metadata": {},
          "execution_count": 151
        }
      ]
    },
    {
      "cell_type": "code",
      "source": [
        "\n",
        "from sklearn.neighbors import KNeighborsClassifier\n",
        "from sklearn.metrics import accuracy_score,classification_report,confusion_matrix"
      ],
      "metadata": {
        "id": "H38DglmuBBWC"
      },
      "execution_count": 152,
      "outputs": []
    },
    {
      "cell_type": "markdown",
      "source": [
        "### With K = 3"
      ],
      "metadata": {
        "id": "C_V5wKD-IRmg"
      }
    },
    {
      "cell_type": "code",
      "source": [
        "\n",
        "classifier = KNeighborsClassifier(n_neighbors = 3)\n",
        "classifier.fit(x_train, y_train)"
      ],
      "metadata": {
        "colab": {
          "base_uri": "https://localhost:8080/"
        },
        "id": "StvOQKsQA17b",
        "outputId": "39def79f-a037-480a-919a-82c75b37556d"
      },
      "execution_count": 153,
      "outputs": [
        {
          "output_type": "execute_result",
          "data": {
            "text/plain": [
              "KNeighborsClassifier(n_neighbors=3)"
            ]
          },
          "metadata": {},
          "execution_count": 153
        }
      ]
    },
    {
      "cell_type": "code",
      "source": [
        "y_pred = classifier.predict(x_test)"
      ],
      "metadata": {
        "colab": {
          "base_uri": "https://localhost:8080/"
        },
        "id": "lePuSbo_Elcs",
        "outputId": "5befe594-6fe9-47d1-c963-097a0c5eefed"
      },
      "execution_count": 154,
      "outputs": [
        {
          "output_type": "stream",
          "name": "stderr",
          "text": [
            "/usr/local/lib/python3.8/dist-packages/sklearn/base.py:443: UserWarning: X has feature names, but KNeighborsClassifier was fitted without feature names\n",
            "  warnings.warn(\n"
          ]
        }
      ]
    },
    {
      "cell_type": "code",
      "source": [
        "print(accuracy_score(y_test, y_pred))"
      ],
      "metadata": {
        "colab": {
          "base_uri": "https://localhost:8080/"
        },
        "id": "2CozrrosEdB0",
        "outputId": "bcfad2e3-6380-45d2-fcee-8ab570bd6528"
      },
      "execution_count": 155,
      "outputs": [
        {
          "output_type": "stream",
          "name": "stdout",
          "text": [
            "0.7641269841269841\n"
          ]
        }
      ]
    },
    {
      "cell_type": "code",
      "source": [
        "print(classification_report(y_test, y_pred))"
      ],
      "metadata": {
        "colab": {
          "base_uri": "https://localhost:8080/"
        },
        "id": "WPpLoATzEoQg",
        "outputId": "090ff639-cbf2-4faa-c6b2-b7bb030fac6e"
      },
      "execution_count": 156,
      "outputs": [
        {
          "output_type": "stream",
          "name": "stdout",
          "text": [
            "              precision    recall  f1-score   support\n",
            "\n",
            "           0       0.45      0.98      0.62      1236\n",
            "           1       1.00      0.86      0.92      1370\n",
            "           2       0.94      0.76      0.84      1252\n",
            "           3       0.94      0.66      0.77      1369\n",
            "           4       0.98      0.54      0.69      1215\n",
            "           5       0.95      0.51      0.66      1132\n",
            "           6       0.96      0.89      0.92      1216\n",
            "           7       0.92      0.83      0.87      1326\n",
            "           8       0.51      0.90      0.65      1197\n",
            "           9       0.84      0.69      0.76      1287\n",
            "\n",
            "    accuracy                           0.76     12600\n",
            "   macro avg       0.85      0.76      0.77     12600\n",
            "weighted avg       0.85      0.76      0.78     12600\n",
            "\n"
          ]
        }
      ]
    },
    {
      "cell_type": "code",
      "source": [
        "print(confusion_matrix(y_test, y_pred))"
      ],
      "metadata": {
        "colab": {
          "base_uri": "https://localhost:8080/"
        },
        "id": "o2cFC24xErQW",
        "outputId": "4dadf70d-69d4-445b-a6bb-23f4f41ab090"
      },
      "execution_count": 157,
      "outputs": [
        {
          "output_type": "stream",
          "name": "stdout",
          "text": [
            "[[1217    0    0    0    0    0    5    0   14    0]\n",
            " [  29 1174   10    1    0    0    5    3  148    0]\n",
            " [ 230    1  956    6    0    0    4    4   46    5]\n",
            " [ 232    2   30  899    0   25    1    7  170    3]\n",
            " [ 322    0    0    0  651    1   11   20  129   81]\n",
            " [ 256    0    0   32    0  575   20    1  245    3]\n",
            " [ 112    0    0    0    1    1 1088    0   14    0]\n",
            " [  54    0   21    6    2    0    0 1098   71   74]\n",
            " [ 107    0    0    3    2    2    2    2 1078    1]\n",
            " [ 116    0    0    6    6    4    1   63  199  892]]\n"
          ]
        }
      ]
    },
    {
      "cell_type": "markdown",
      "source": [
        "#### K=5"
      ],
      "metadata": {
        "id": "grO-xMkmIVpg"
      }
    },
    {
      "cell_type": "code",
      "source": [
        "\n",
        "classifier5 = KNeighborsClassifier(n_neighbors = 5)\n",
        "classifier5.fit(x_train, y_train)\n"
      ],
      "metadata": {
        "colab": {
          "base_uri": "https://localhost:8080/"
        },
        "id": "OMGSxb_nA4v3",
        "outputId": "afb2119c-d6a0-465e-894f-97a838a69435"
      },
      "execution_count": 158,
      "outputs": [
        {
          "output_type": "execute_result",
          "data": {
            "text/plain": [
              "KNeighborsClassifier()"
            ]
          },
          "metadata": {},
          "execution_count": 158
        }
      ]
    },
    {
      "cell_type": "code",
      "source": [
        "y_pred5 = classifier5.predict(x_test)\n"
      ],
      "metadata": {
        "colab": {
          "base_uri": "https://localhost:8080/"
        },
        "id": "abfKEu_KExGa",
        "outputId": "945d2a05-b950-4f45-80ca-a607915bda5c"
      },
      "execution_count": 159,
      "outputs": [
        {
          "output_type": "stream",
          "name": "stderr",
          "text": [
            "/usr/local/lib/python3.8/dist-packages/sklearn/base.py:443: UserWarning: X has feature names, but KNeighborsClassifier was fitted without feature names\n",
            "  warnings.warn(\n"
          ]
        }
      ]
    },
    {
      "cell_type": "code",
      "source": [
        "print(accuracy_score(y_test, y_pred5))\n",
        "\n"
      ],
      "metadata": {
        "colab": {
          "base_uri": "https://localhost:8080/"
        },
        "id": "-hNwSSVSE1Ez",
        "outputId": "caf3de1f-15f8-480a-f33f-90039f9e0104"
      },
      "execution_count": 160,
      "outputs": [
        {
          "output_type": "stream",
          "name": "stdout",
          "text": [
            "0.8011111111111111\n"
          ]
        }
      ]
    },
    {
      "cell_type": "code",
      "source": [
        "print(classification_report(y_test, y_pred5))\n",
        "\n"
      ],
      "metadata": {
        "colab": {
          "base_uri": "https://localhost:8080/"
        },
        "id": "dmcovbRhE1Jr",
        "outputId": "3b6f5d31-0506-4c8d-c5ed-26a7ec54794b"
      },
      "execution_count": 161,
      "outputs": [
        {
          "output_type": "stream",
          "name": "stdout",
          "text": [
            "              precision    recall  f1-score   support\n",
            "\n",
            "           0       0.59      0.99      0.73      1236\n",
            "           1       1.00      0.89      0.94      1370\n",
            "           2       0.94      0.82      0.87      1252\n",
            "           3       0.94      0.76      0.84      1369\n",
            "           4       0.99      0.58      0.73      1215\n",
            "           5       0.93      0.55      0.69      1132\n",
            "           6       0.95      0.92      0.93      1216\n",
            "           7       0.94      0.85      0.89      1326\n",
            "           8       0.49      0.94      0.65      1197\n",
            "           9       0.84      0.70      0.76      1287\n",
            "\n",
            "    accuracy                           0.80     12600\n",
            "   macro avg       0.86      0.80      0.80     12600\n",
            "weighted avg       0.86      0.80      0.81     12600\n",
            "\n"
          ]
        }
      ]
    },
    {
      "cell_type": "code",
      "source": [
        "print(confusion_matrix(y_test, y_pred5))"
      ],
      "metadata": {
        "colab": {
          "base_uri": "https://localhost:8080/"
        },
        "id": "2Gq65GEOE1qd",
        "outputId": "accb1b39-6de3-4d25-e970-5f3970c36c59"
      },
      "execution_count": 162,
      "outputs": [
        {
          "output_type": "stream",
          "name": "stdout",
          "text": [
            "[[1220    0    0    0    0    0    4    0   12    0]\n",
            " [   3 1223   14    2    2    0    7    0  118    1]\n",
            " [ 156    1 1025    9    0    0    5    7   45    4]\n",
            " [  69    2   29 1037    0   33    2    8  186    3]\n",
            " [ 222    0    0    0  705    0   20    8  174   86]\n",
            " [ 165    0    1   45    0  622   22    1  273    3]\n",
            " [  78    0    0    0    1    2 1120    0   15    0]\n",
            " [  29    0   17    5    0    0    0 1124   82   69]\n",
            " [  56    0    4    4    0    6    3    0 1121    3]\n",
            " [  86    0    1    4    2    4    1   46  246  897]]\n"
          ]
        }
      ]
    },
    {
      "cell_type": "markdown",
      "source": [
        "#### K=7"
      ],
      "metadata": {
        "id": "HSzgwF-lIYSb"
      }
    },
    {
      "cell_type": "code",
      "source": [
        "\n",
        "classifier7 = KNeighborsClassifier(n_neighbors = 7)\n",
        "classifier7.fit(x_train, y_train)\n"
      ],
      "metadata": {
        "colab": {
          "base_uri": "https://localhost:8080/"
        },
        "id": "6GlHbOEqA6MM",
        "outputId": "fec3ede1-de2f-48d5-a505-5eb120bc35ee"
      },
      "execution_count": 163,
      "outputs": [
        {
          "output_type": "execute_result",
          "data": {
            "text/plain": [
              "KNeighborsClassifier(n_neighbors=7)"
            ]
          },
          "metadata": {},
          "execution_count": 163
        }
      ]
    },
    {
      "cell_type": "code",
      "source": [
        "y_pred7 = classifier7.predict(x_test)\n",
        "\n"
      ],
      "metadata": {
        "colab": {
          "base_uri": "https://localhost:8080/"
        },
        "id": "u0qtEixlFE7_",
        "outputId": "c6ee5948-2ee4-44b9-8682-2efa0b695ffb"
      },
      "execution_count": 164,
      "outputs": [
        {
          "output_type": "stream",
          "name": "stderr",
          "text": [
            "/usr/local/lib/python3.8/dist-packages/sklearn/base.py:443: UserWarning: X has feature names, but KNeighborsClassifier was fitted without feature names\n",
            "  warnings.warn(\n"
          ]
        }
      ]
    },
    {
      "cell_type": "code",
      "source": [
        "print(accuracy_score(y_test, y_pred7))\n"
      ],
      "metadata": {
        "colab": {
          "base_uri": "https://localhost:8080/"
        },
        "id": "AYAiyAjQFFAS",
        "outputId": "55a47e67-6fc3-4303-fed0-162b47eba924"
      },
      "execution_count": 165,
      "outputs": [
        {
          "output_type": "stream",
          "name": "stdout",
          "text": [
            "0.8068253968253968\n"
          ]
        }
      ]
    },
    {
      "cell_type": "code",
      "source": [
        "print(classification_report(y_test, y_pred7))\n",
        "\n"
      ],
      "metadata": {
        "colab": {
          "base_uri": "https://localhost:8080/"
        },
        "id": "DGG0dsI8FFEO",
        "outputId": "4ea3e94e-c245-42d1-b0b3-2e9c805f392f"
      },
      "execution_count": 166,
      "outputs": [
        {
          "output_type": "stream",
          "name": "stdout",
          "text": [
            "              precision    recall  f1-score   support\n",
            "\n",
            "           0       0.62      0.98      0.76      1236\n",
            "           1       1.00      0.90      0.95      1370\n",
            "           2       0.94      0.84      0.89      1252\n",
            "           3       0.93      0.77      0.85      1369\n",
            "           4       0.99      0.59      0.74      1215\n",
            "           5       0.96      0.54      0.69      1132\n",
            "           6       0.94      0.92      0.93      1216\n",
            "           7       0.94      0.85      0.89      1326\n",
            "           8       0.48      0.95      0.64      1197\n",
            "           9       0.84      0.70      0.76      1287\n",
            "\n",
            "    accuracy                           0.81     12600\n",
            "   macro avg       0.86      0.80      0.81     12600\n",
            "weighted avg       0.87      0.81      0.81     12600\n",
            "\n"
          ]
        }
      ]
    },
    {
      "cell_type": "code",
      "source": [
        "print(confusion_matrix(y_test, y_pred7))"
      ],
      "metadata": {
        "colab": {
          "base_uri": "https://localhost:8080/"
        },
        "id": "EvU1T28RFFHb",
        "outputId": "da7c7d27-aa31-4745-8f84-4e1d73bd1897"
      },
      "execution_count": 167,
      "outputs": [
        {
          "output_type": "stream",
          "name": "stdout",
          "text": [
            "[[1217    0    0    0    0    0    5    0   14    0]\n",
            " [   1 1236   13    4    1    0    7    1  107    0]\n",
            " [ 125    0 1051   12    0    0    6    5   49    4]\n",
            " [  58    2   29 1056    0   14    2    7  196    5]\n",
            " [ 185    0    1    0  720    0   23    8  183   95]\n",
            " [ 147    0    2   44    0  614   23    1  298    3]\n",
            " [  73    1    0    0    1    4 1115    0   22    0]\n",
            " [  35    0   19    6    2    0    0 1121   76   67]\n",
            " [  43    0    4    5    0    6    2    0 1134    3]\n",
            " [  65    0    0    3    3    3    1   46  264  902]]\n"
          ]
        }
      ]
    },
    {
      "cell_type": "markdown",
      "source": [
        "#### K =9"
      ],
      "metadata": {
        "id": "BI4kWb6XIap3"
      }
    },
    {
      "cell_type": "code",
      "source": [
        "\n",
        "classifier9 = KNeighborsClassifier(n_neighbors = 9)\n",
        "classifier9.fit(x_train, y_train)\n"
      ],
      "metadata": {
        "colab": {
          "base_uri": "https://localhost:8080/"
        },
        "id": "_LTLLMo0A8eC",
        "outputId": "bf195a98-4f6a-4c5c-a476-4c75ef470596"
      },
      "execution_count": 168,
      "outputs": [
        {
          "output_type": "execute_result",
          "data": {
            "text/plain": [
              "KNeighborsClassifier(n_neighbors=9)"
            ]
          },
          "metadata": {},
          "execution_count": 168
        }
      ]
    },
    {
      "cell_type": "code",
      "source": [
        "y_pred9 = classifier9.predict(x_test)\n",
        "\n"
      ],
      "metadata": {
        "colab": {
          "base_uri": "https://localhost:8080/"
        },
        "id": "aZc_nNVwFJ9i",
        "outputId": "33ea6718-b5bb-4912-817e-8dba8f953669"
      },
      "execution_count": 169,
      "outputs": [
        {
          "output_type": "stream",
          "name": "stderr",
          "text": [
            "/usr/local/lib/python3.8/dist-packages/sklearn/base.py:443: UserWarning: X has feature names, but KNeighborsClassifier was fitted without feature names\n",
            "  warnings.warn(\n"
          ]
        }
      ]
    },
    {
      "cell_type": "code",
      "source": [
        "print(accuracy_score(y_test, y_pred9))\n",
        "\n"
      ],
      "metadata": {
        "colab": {
          "base_uri": "https://localhost:8080/"
        },
        "id": "b9PbNO4bFKAt",
        "outputId": "a06de318-2465-412c-cf5e-a70d6f30f42d"
      },
      "execution_count": 170,
      "outputs": [
        {
          "output_type": "stream",
          "name": "stdout",
          "text": [
            "0.8102380952380952\n"
          ]
        }
      ]
    },
    {
      "cell_type": "code",
      "source": [
        "print(classification_report(y_test, y_pred9))\n",
        "\n"
      ],
      "metadata": {
        "colab": {
          "base_uri": "https://localhost:8080/"
        },
        "id": "LYR5hmrWFKEP",
        "outputId": "118779e3-9159-4660-960d-229909f5aa34"
      },
      "execution_count": 171,
      "outputs": [
        {
          "output_type": "stream",
          "name": "stdout",
          "text": [
            "              precision    recall  f1-score   support\n",
            "\n",
            "           0       0.65      0.98      0.78      1236\n",
            "           1       1.00      0.91      0.95      1370\n",
            "           2       0.95      0.85      0.90      1252\n",
            "           3       0.94      0.78      0.85      1369\n",
            "           4       0.99      0.60      0.75      1215\n",
            "           5       0.96      0.53      0.68      1132\n",
            "           6       0.94      0.92      0.93      1216\n",
            "           7       0.94      0.84      0.89      1326\n",
            "           8       0.48      0.96      0.64      1197\n",
            "           9       0.83      0.70      0.76      1287\n",
            "\n",
            "    accuracy                           0.81     12600\n",
            "   macro avg       0.87      0.81      0.81     12600\n",
            "weighted avg       0.87      0.81      0.82     12600\n",
            "\n"
          ]
        }
      ]
    },
    {
      "cell_type": "code",
      "source": [
        "print(confusion_matrix(y_test, y_pred9))"
      ],
      "metadata": {
        "colab": {
          "base_uri": "https://localhost:8080/"
        },
        "id": "50oIHJxcFKWT",
        "outputId": "0bffdc65-fed0-44c4-b89f-fb9e593c4c1c"
      },
      "execution_count": 172,
      "outputs": [
        {
          "output_type": "stream",
          "name": "stdout",
          "text": [
            "[[1216    0    0    0    0    0    5    0   15    0]\n",
            " [   1 1247   10    3    0    0    6    1  102    0]\n",
            " [ 107    0 1067   10    1    0    7    5   51    4]\n",
            " [  51    2   23 1064    0   16    3    7  198    5]\n",
            " [ 150    0    0    0  725    0   27    8  202  103]\n",
            " [ 154    0    1   42    0  602   23    2  304    4]\n",
            " [  69    0    0    0    0    4 1121    0   22    0]\n",
            " [  32    0   20    7    1    0    0 1113   82   71]\n",
            " [  33    0    3    3    0    4    2    0 1149    3]\n",
            " [  57    0    0    1    3    3    1   42  275  905]]\n"
          ]
        }
      ]
    },
    {
      "cell_type": "markdown",
      "source": [
        "#### K = 11"
      ],
      "metadata": {
        "id": "C6hvbDJqIckc"
      }
    },
    {
      "cell_type": "code",
      "source": [
        "\n",
        "\n",
        "classifier11 = KNeighborsClassifier(n_neighbors = 11)\n",
        "classifier11.fit(x_train, y_train)\n"
      ],
      "metadata": {
        "colab": {
          "base_uri": "https://localhost:8080/"
        },
        "id": "16UIhlKeA965",
        "outputId": "25a02cc4-2782-40ae-a4c5-52eeaf5322df"
      },
      "execution_count": 173,
      "outputs": [
        {
          "output_type": "execute_result",
          "data": {
            "text/plain": [
              "KNeighborsClassifier(n_neighbors=11)"
            ]
          },
          "metadata": {},
          "execution_count": 173
        }
      ]
    },
    {
      "cell_type": "code",
      "source": [
        "y_pred11 = classifier11.predict(x_test)\n",
        "\n"
      ],
      "metadata": {
        "colab": {
          "base_uri": "https://localhost:8080/"
        },
        "id": "vNW-9BeAFS-Q",
        "outputId": "8760fa84-ad64-4462-d936-af8153224b65"
      },
      "execution_count": 174,
      "outputs": [
        {
          "output_type": "stream",
          "name": "stderr",
          "text": [
            "/usr/local/lib/python3.8/dist-packages/sklearn/base.py:443: UserWarning: X has feature names, but KNeighborsClassifier was fitted without feature names\n",
            "  warnings.warn(\n"
          ]
        }
      ]
    },
    {
      "cell_type": "code",
      "source": [
        "print(accuracy_score(y_test, y_pred11))\n",
        "\n"
      ],
      "metadata": {
        "colab": {
          "base_uri": "https://localhost:8080/"
        },
        "id": "59P4auTXFTed",
        "outputId": "e763f301-9d6a-4407-e298-023e8f29c78b"
      },
      "execution_count": 175,
      "outputs": [
        {
          "output_type": "stream",
          "name": "stdout",
          "text": [
            "0.8115079365079365\n"
          ]
        }
      ]
    },
    {
      "cell_type": "code",
      "source": [
        "print(classification_report(y_test, y_pred11))\n"
      ],
      "metadata": {
        "colab": {
          "base_uri": "https://localhost:8080/"
        },
        "id": "JzToSPmLFThZ",
        "outputId": "4d8f1073-b6a7-45f5-db5c-8af5c918a550"
      },
      "execution_count": 176,
      "outputs": [
        {
          "output_type": "stream",
          "name": "stdout",
          "text": [
            "              precision    recall  f1-score   support\n",
            "\n",
            "           0       0.66      0.99      0.79      1236\n",
            "           1       1.00      0.90      0.95      1370\n",
            "           2       0.95      0.86      0.90      1252\n",
            "           3       0.94      0.78      0.85      1369\n",
            "           4       0.99      0.59      0.74      1215\n",
            "           5       0.96      0.54      0.69      1132\n",
            "           6       0.94      0.93      0.93      1216\n",
            "           7       0.95      0.84      0.89      1326\n",
            "           8       0.47      0.96      0.64      1197\n",
            "           9       0.83      0.70      0.76      1287\n",
            "\n",
            "    accuracy                           0.81     12600\n",
            "   macro avg       0.87      0.81      0.81     12600\n",
            "weighted avg       0.87      0.81      0.82     12600\n",
            "\n"
          ]
        }
      ]
    },
    {
      "cell_type": "code",
      "source": [
        "\n",
        "print(confusion_matrix(y_test, y_pred11))"
      ],
      "metadata": {
        "colab": {
          "base_uri": "https://localhost:8080/"
        },
        "id": "EO2Xg2OHFX5i",
        "outputId": "ee0f7619-0789-4e13-a1ca-996dcea658ce"
      },
      "execution_count": 177,
      "outputs": [
        {
          "output_type": "stream",
          "name": "stdout",
          "text": [
            "[[1219    0    0    0    0    0    3    0   14    0]\n",
            " [   1 1239    8    4    0    0    6    1  111    0]\n",
            " [  96    0 1077    9    0    0    7    4   55    4]\n",
            " [  50    2   24 1067    0   14    3    7  199    3]\n",
            " [ 137    0    0    0  721    0   30    5  217  105]\n",
            " [ 147    0    1   42    1  608   24    2  302    5]\n",
            " [  67    1    0    0    0    4 1126    0   18    0]\n",
            " [  38    0   19    7    1    0    0 1112   84   65]\n",
            " [  31    0    5    1    1    3    2    0 1152    2]\n",
            " [  53    0    0    2    3    6    2   42  275  904]]\n"
          ]
        }
      ]
    }
  ]
}